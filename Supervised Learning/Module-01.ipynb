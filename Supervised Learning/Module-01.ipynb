{
 "cells": [
  {
   "cell_type": "markdown",
   "id": "9995b7a8",
   "metadata": {},
   "source": [
    "🔹 1. Supervised Learning\n",
    "\n",
    "A type of machine learning where the model is trained using labeled data — that means we already know the correct answers (outputs) for each input.\n",
    "Goal: Learn a mapping from inputs to outputs to make future predictions."
   ]
  },
  {
   "cell_type": "markdown",
   "id": "95f2c6dc",
   "metadata": {},
   "source": [
    "🔹 2. Linear Regression\n",
    "\n",
    "A simple technique in supervised learning that finds a straight-line relationship between input and output.\n",
    "Goal: Predict a continuous value (like price or temperature) based on one or more input features."
   ]
  },
  {
   "cell_type": "markdown",
   "id": "7c8e61d7",
   "metadata": {},
   "source": []
  }
 ],
 "metadata": {
  "language_info": {
   "name": "python"
  }
 },
 "nbformat": 4,
 "nbformat_minor": 5
}
