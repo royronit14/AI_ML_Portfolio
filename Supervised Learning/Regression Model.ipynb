{
 "cells": [
  {
   "cell_type": "markdown",
   "id": "28967727",
   "metadata": {},
   "source": [
    "Of course. Here is a detailed summary of the key learnings about the Regression Model and its Cost Function, structured in Markdown format based on the course transcripts you provided.\n",
    "\n",
    "# Key Learnings: The Regression Model & Cost Function\n",
    "\n",
    "This document provides a detailed breakdown of the linear regression model and the crucial role of the cost function.\n",
    "\n",
    "-----\n",
    "\n",
    "## 1\\. The Linear Regression Model\n",
    "\n",
    "### **Model Definition**\n",
    "\n",
    "[cite\\_start]The linear regression model uses a linear function to map input features to output targets[cite: 121, 122]. The standard formula for the model is:\n",
    "\n",
    "**`f(x) = wx + b`**\n",
    "\n",
    "  * [cite\\_start]**`f(x)`**: The model's prediction, also referred to as `y-hat` (`ŷ`)[cite: 133, 144].\n",
    "  * [cite\\_start]**`x`**: The input feature[cite: 121].\n",
    "  * [cite\\_start]**`w`, `b`**: The parameters of the model[cite: 123].\n",
    "\n",
    "### **Model Parameters**\n",
    "\n",
    "[cite\\_start]The **parameters** are the variables in the model that you can adjust during the training process to improve its performance[cite: 124].\n",
    "\n",
    "  * [cite\\_start]**`w`** is often called the **weight** or coefficient and controls the **slope** of the line[cite: 125, 136, 139].\n",
    "  * [cite\\_start]**`b`** is often called the **bias** and controls the **y-intercept**, which is where the line crosses the vertical axis[cite: 125, 134, 137].\n",
    "\n",
    "[cite\\_start]Different choices for `w` and `b` result in a different straight-line function `f(x)`[cite: 127]. [cite\\_start]The primary goal is to choose values for `w` and `b` so that the line fits the data well[cite: 141].\n",
    "\n",
    "-----\n",
    "\n",
    "## 2\\. The Cost Function (J)\n",
    "\n",
    "### **Purpose and Goal**\n",
    "\n",
    "[cite\\_start]The first key step in implementing linear regression is to define a **cost function**[cite: 119].\n",
    "\n",
    "  * [cite\\_start]**Purpose**: The cost function's job is to tell you how well your model is doing[cite: 120]. [cite\\_start]It measures the difference, or **error**, between the model's prediction (`y-hat`) and the actual target value (`y`) for all the examples in your training set[cite: 49, 150].\n",
    "  * [cite\\_start]**Goal**: The ultimate goal of linear regression is to **minimize the cost function `J(w, b)`**[cite: 3, 51]. [cite\\_start]Finding the values of `w` and `b` that make the cost as small as possible results in a model that best fits the data[cite: 111, 114].\n",
    "\n",
    "### **The Squared Error Cost Function**\n",
    "\n",
    "[cite\\_start]The **Squared Error Cost Function** is by far the most commonly used one for linear regression problems[cite: 161]. It is calculated by taking the average of the squared errors for all training examples.\n",
    "\n",
    "The formula is:\n"
   ]
  },
  {
   "cell_type": "markdown",
   "id": "30ca00bf",
   "metadata": {},
   "source": [
    "$$J(w,b) = \\frac{1}{2m} \\sum_{i=1}^{m} (f_{w,b}(x^{(i)}) - y^{(i)})^2$$"
   ]
  },
  {
   "cell_type": "markdown",
   "id": "bf43a544",
   "metadata": {},
   "source": [
    "\n",
    "\n",
    "\n",
    "  * [cite\\_start]The error term `(f(x) - y)` is calculated for each of the `m` training examples[cite: 151, 152].\n",
    "  * [cite\\_start]This error is then **squared**[cite: 151].\n",
    "  * [cite\\_start]The squared errors are **summed up** across the entire training set[cite: 153].\n",
    "  * [cite\\_start]To create an average that isn't affected by the training set size, the sum is divided by `m`[cite: 156]. [cite\\_start]By convention, it is divided by `2m` to make some later calculations neater[cite: 157, 158].\n",
    "\n",
    "-----\n",
    "\n",
    "## 3\\. Building Intuition: Visualizing the Cost Function\n",
    "\n",
    "Visualizing the cost function is key to understanding what it's doing.\n",
    "\n",
    "### **The Connection Between Model and Cost**\n",
    "\n",
    "[cite\\_start]For any given choice of parameters `w` and `b`, you get a specific straight line `f(x)`[cite: 104]. [cite\\_start]This same choice of `w` and `b` corresponds to a single point of cost, `J(w, b)`, on the cost function graph[cite: 105, 115].\n",
    "\n",
    "### **Simplified Case: Visualizing J(w)**\n",
    "\n",
    "[cite\\_start]To build intuition, we can simplify the model by temporarily setting `b=0`[cite: 4, 54].\n",
    "\n",
    "  * [cite\\_start]In this case, the cost function `J(w)` becomes a **2D U-shaped curve**, often described as a soup bowl[cite: 9, 10].\n",
    "  * [cite\\_start]The horizontal axis represents the parameter `w`, and the vertical axis represents the cost `J`[cite: 77].\n",
    "  * [cite\\_start]The minimum cost is found at the lowest point of this curve[cite: 112].\n",
    "\n",
    "### **Full Case: Visualizing J(w, b)**\n",
    "\n",
    "With both parameters, the visualization becomes more complex.\n",
    "\n",
    "  * [cite\\_start]The cost function `J(w, b)` is a **3D \"soup bowl\" or hammock-shaped surface**[cite: 12, 13, 14]. [cite\\_start]The two horizontal axes represent `w` and `b`, and the vertical axis (height) represents the cost `J`[cite: 16].\n",
    "  * [cite\\_start]This 3D shape can be viewed as a **2D contour plot**, which is like looking down on a topographical map[cite: 19, 20]. [cite\\_start]Each oval (ellipse) on the plot represents a set of points (`w`, `b`) that have the exact same cost `J`[cite: 28, 31].\n",
    "  * [cite\\_start]The goal is to find the minimum of the cost function, which is located at the **bottom of the 3D bowl** or, equivalently, at the **center of the innermost oval** on the contour plot[cite: 34, 37]."
   ]
  },
  {
   "cell_type": "markdown",
   "id": "31a5ac8f",
   "metadata": {},
   "source": []
  }
 ],
 "metadata": {
  "language_info": {
   "name": "python"
  }
 },
 "nbformat": 4,
 "nbformat_minor": 5
}
