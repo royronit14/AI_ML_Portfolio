{
 "cells": [
  {
   "cell_type": "code",
   "execution_count": 22,
   "id": "b74de80f",
   "metadata": {},
   "outputs": [
    {
     "name": "stdout",
     "output_type": "stream",
     "text": [
      "Hello, World\n"
     ]
    }
   ],
   "source": [
    "print(\"Hello, World\")\n"
   ]
  },
  {
   "cell_type": "code",
   "execution_count": 23,
   "id": "da371f7c",
   "metadata": {},
   "outputs": [
    {
     "data": {
      "text/plain": [
       "str"
      ]
     },
     "execution_count": 23,
     "metadata": {},
     "output_type": "execute_result"
    }
   ],
   "source": [
    "type(11)\n",
    "type(\"ABCCCC\")"
   ]
  },
  {
   "cell_type": "code",
   "execution_count": 27,
   "id": "bf13a73f",
   "metadata": {},
   "outputs": [
    {
     "data": {
      "text/plain": [
       "3"
      ]
     },
     "execution_count": 27,
     "metadata": {},
     "output_type": "execute_result"
    }
   ],
   "source": [
    "float(111)\n",
    "int(12899.662)\n",
    "int(3.99999999)"
   ]
  },
  {
   "cell_type": "code",
   "execution_count": 21,
   "id": "930cc67f",
   "metadata": {},
   "outputs": [
    {
     "data": {
      "text/plain": [
       "bool"
      ]
     },
     "execution_count": 21,
     "metadata": {},
     "output_type": "execute_result"
    }
   ],
   "source": [
    "type(True)"
   ]
  },
  {
   "cell_type": "code",
   "execution_count": 28,
   "id": "30f35c97",
   "metadata": {},
   "outputs": [
    {
     "data": {
      "text/plain": [
       "-10"
      ]
     },
     "execution_count": 28,
     "metadata": {},
     "output_type": "execute_result"
    }
   ],
   "source": [
    "50-60"
   ]
  },
  {
   "cell_type": "code",
   "execution_count": 35,
   "id": "1ad2a2ab",
   "metadata": {},
   "outputs": [
    {
     "data": {
      "text/plain": [
       "8"
      ]
     },
     "execution_count": 35,
     "metadata": {},
     "output_type": "execute_result"
    }
   ],
   "source": [
    "25//3\n",
    "\n"
   ]
  },
  {
   "cell_type": "markdown",
   "id": "4dd8c9ee",
   "metadata": {},
   "source": [
    "In Python first multiplication then addition"
   ]
  },
  {
   "cell_type": "code",
   "execution_count": 36,
   "id": "34e8101e",
   "metadata": {},
   "outputs": [
    {
     "data": {
      "text/plain": [
       "760"
      ]
     },
     "execution_count": 36,
     "metadata": {},
     "output_type": "execute_result"
    }
   ],
   "source": [
    "25*30+10"
   ]
  },
  {
   "cell_type": "code",
   "execution_count": 37,
   "id": "8de14b7f",
   "metadata": {},
   "outputs": [
    {
     "data": {
      "text/plain": [
       "325"
      ]
     },
     "execution_count": 37,
     "metadata": {},
     "output_type": "execute_result"
    }
   ],
   "source": [
    "25+30*10"
   ]
  },
  {
   "cell_type": "markdown",
   "id": "5da276bc",
   "metadata": {},
   "source": [
    "Expressions in Brackets are done first \n"
   ]
  },
  {
   "cell_type": "code",
   "execution_count": 38,
   "id": "6461bda5",
   "metadata": {},
   "outputs": [
    {
     "data": {
      "text/plain": [
       "100"
      ]
     },
     "execution_count": 38,
     "metadata": {},
     "output_type": "execute_result"
    }
   ],
   "source": [
    "(30*3)+10\n"
   ]
  },
  {
   "cell_type": "code",
   "execution_count": 42,
   "id": "807dccc3",
   "metadata": {},
   "outputs": [
    {
     "name": "stdout",
     "output_type": "stream",
     "text": [
      "100\n"
     ]
    }
   ],
   "source": [
    "var=100\n",
    "print(var)"
   ]
  },
  {
   "cell_type": "code",
   "execution_count": 52,
   "id": "2774cb43",
   "metadata": {},
   "outputs": [
    {
     "name": "stdout",
     "output_type": "stream",
     "text": [
      "30\n",
      "30.0\n"
     ]
    }
   ],
   "source": [
    "var=30\n",
    "print(var)\n",
    "float_var=float(var)\n",
    "print(float_var)\n",
    "\n"
   ]
  },
  {
   "cell_type": "markdown",
   "id": "56f63b24",
   "metadata": {},
   "source": [
    "Converting total minutes to total hour"
   ]
  },
  {
   "cell_type": "code",
   "execution_count": 53,
   "id": "c49840dc",
   "metadata": {},
   "outputs": [],
   "source": [
    "total_min= 120+40+11\n",
    "total_hr= total_min/60\n"
   ]
  },
  {
   "cell_type": "code",
   "execution_count": 54,
   "id": "955e8302",
   "metadata": {},
   "outputs": [
    {
     "name": "stdout",
     "output_type": "stream",
     "text": [
      "2.85\n"
     ]
    }
   ],
   "source": [
    "print(total_hr)"
   ]
  }
 ],
 "metadata": {
  "kernelspec": {
   "display_name": "Python 3",
   "language": "python",
   "name": "python3"
  },
  "language_info": {
   "codemirror_mode": {
    "name": "ipython",
    "version": 3
   },
   "file_extension": ".py",
   "mimetype": "text/x-python",
   "name": "python",
   "nbconvert_exporter": "python",
   "pygments_lexer": "ipython3",
   "version": "3.10.0"
  }
 },
 "nbformat": 4,
 "nbformat_minor": 5
}
