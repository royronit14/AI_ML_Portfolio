{
 "cells": [
  {
   "cell_type": "markdown",
   "id": "ba950d82",
   "metadata": {},
   "source": [
    "Loops\n",
    "\n",
    "for loop and while loop"
   ]
  },
  {
   "cell_type": "markdown",
   "id": "5146b62a",
   "metadata": {},
   "source": [
    "range(N) ====> [0,1,2,....,N-1]"
   ]
  },
  {
   "cell_type": "markdown",
   "id": "da7d7ccb",
   "metadata": {},
   "source": [
    "For Loop"
   ]
  },
  {
   "cell_type": "code",
   "execution_count": 3,
   "id": "b982495f",
   "metadata": {},
   "outputs": [
    {
     "name": "stdout",
     "output_type": "stream",
     "text": [
      "0\n",
      "1\n",
      "2\n",
      "3\n",
      "4\n",
      "5\n",
      "6\n",
      "7\n"
     ]
    }
   ],
   "source": [
    "for i in range(0, 8):\n",
    "    print(i)"
   ]
  },
  {
   "cell_type": "code",
   "execution_count": 4,
   "id": "78c07361",
   "metadata": {},
   "outputs": [
    {
     "name": "stdout",
     "output_type": "stream",
     "text": [
      "1990\n",
      "1992\n",
      "1997\n",
      "2001\n"
     ]
    }
   ],
   "source": [
    "years = [1990, 1992, 1997, 2001]\n",
    "N = len(year)\n",
    "for i in range(N):\n",
    "    print(years[i])"
   ]
  },
  {
   "cell_type": "code",
   "execution_count": null,
   "id": "81b98e2d",
   "metadata": {},
   "outputs": [
    {
     "name": "stdout",
     "output_type": "stream",
     "text": [
      "1990\n",
      "1992\n",
      "1997\n",
      "2001\n"
     ]
    }
   ],
   "source": [
    "for year in years:\n",
    "    print(year)     #here year is the variable just like \"i\""
   ]
  },
  {
   "cell_type": "code",
   "execution_count": 6,
   "id": "6bdca264",
   "metadata": {},
   "outputs": [
    {
     "name": "stdout",
     "output_type": "stream",
     "text": [
      "Before square  0 is red\n",
      "After square  0 is white\n",
      "Before square  1 is yellow\n",
      "After square  1 is white\n",
      "Before square  2 is green\n",
      "After square  2 is white\n",
      "Before square  3 is purple\n",
      "After square  3 is white\n",
      "Before square  4 is blue\n",
      "After square  4 is white\n"
     ]
    }
   ],
   "source": [
    "# Use for loop to change the elements in list\n",
    "squares = ['red', 'yellow', 'green', 'purple', 'blue']\n",
    "\n",
    "for i in range(0, 5):\n",
    "    print(\"Before square \", i, 'is',  squares[i])\n",
    "    squares[i] = 'white'\n",
    "    print(\"After square \", i, 'is',  squares[i])"
   ]
  },
  {
   "cell_type": "markdown",
   "id": "bcaea702",
   "metadata": {},
   "source": [
    "enumerate() Function:\n",
    "\n",
    "The enumerate() function is a Python tool that allows you to loop through an iterable—like a list, tuple, or string—and have access to both the index and the element itself. This cuts down on extra work, as there's no need to manually track indexes."
   ]
  },
  {
   "cell_type": "code",
   "execution_count": 12,
   "id": "609fbb35",
   "metadata": {},
   "outputs": [
    {
     "name": "stdout",
     "output_type": "stream",
     "text": [
      "Index: 0: red\n",
      "Index: 1: yellow\n",
      "Index: 2: green\n",
      "Index: 3: purple\n",
      "Index: 4: blue\n"
     ]
    }
   ],
   "source": [
    "squares=['red', 'yellow', 'green', 'purple', 'blue']\n",
    "\n",
    "\n",
    "#shows error\n",
    "#for i, square in range(0,5):\n",
    " #   print(i,square)\n",
    "\n",
    "for i, square in enumerate(squares):\n",
    "    print(f\"Index: {i}: {square}\")"
   ]
  },
  {
   "cell_type": "markdown",
   "id": "63ea18f6",
   "metadata": {},
   "source": [
    "While Loop"
   ]
  },
  {
   "cell_type": "code",
   "execution_count": 17,
   "id": "73499abf",
   "metadata": {},
   "outputs": [
    {
     "name": "stdout",
     "output_type": "stream",
     "text": [
      "1973\n",
      "1973\n",
      "It took  2 repetitions to get out of loop.\n"
     ]
    }
   ],
   "source": [
    "# While Loop Example\n",
    "\n",
    "dates = [1982, 1980, 1973, 2000]\n",
    "i = 0\n",
    "while(dates[i] != 1973):    \n",
    "    print(year)\n",
    "    i = i + 1\n",
    "\n",
    "print(\"It took \", i ,\"repetitions to get out of loop.\")"
   ]
  },
  {
   "cell_type": "markdown",
   "id": "83cfa3ad",
   "metadata": {},
   "source": [
    "Write a while loop to display the values of the Rating of an album playlist stored in thePlayListRatings list. If the score is less than 6, exit the loop. The list PlayListRatings is given by: PlayListRatings = [10, 9.5, 10, 8, 7.5, 5, 10, 10]"
   ]
  },
  {
   "cell_type": "code",
   "execution_count": 23,
   "id": "6b69293c",
   "metadata": {},
   "outputs": [
    {
     "name": "stdout",
     "output_type": "stream",
     "text": [
      "10\n",
      "9.5\n",
      "10\n",
      "8\n",
      "7.5\n",
      "The PlayListRatings Score is Less than 6.\n"
     ]
    }
   ],
   "source": [
    "PlayListRatings = [10, 9.5, 10, 8, 7.5, 5, 10, 10]\n",
    "i = 0 \n",
    "while(PlayListRatings[i]>6):\n",
    "    print(PlayListRatings[i])\n",
    "    i=i+1\n",
    "print(\"The PlayListRatings Score is Less than 6.\")"
   ]
  },
  {
   "cell_type": "code",
   "execution_count": 21,
   "id": "2f5cfc87",
   "metadata": {},
   "outputs": [
    {
     "name": "stdout",
     "output_type": "stream",
     "text": [
      "10\n",
      "9.5\n",
      "8\n"
     ]
    }
   ],
   "source": [
    "PlayListRatings = [10, 9.5, 10, 8, 7.5, 5, 10, 10]\n",
    "i = 0\n",
    "Rating = PlayListRatings[0]\n",
    "while(i < len(PlayListRatings) and Rating >= 6):\n",
    "    print(Rating)\n",
    "    i = i + 1 # This prints the value 10 only once \n",
    "    Rating = PlayListRatings[i]\n",
    "    i = i + 1"
   ]
  }
 ],
 "metadata": {
  "kernelspec": {
   "display_name": "Python 3",
   "language": "python",
   "name": "python3"
  },
  "language_info": {
   "codemirror_mode": {
    "name": "ipython",
    "version": 3
   },
   "file_extension": ".py",
   "mimetype": "text/x-python",
   "name": "python",
   "nbconvert_exporter": "python",
   "pygments_lexer": "ipython3",
   "version": "3.10.0"
  }
 },
 "nbformat": 4,
 "nbformat_minor": 5
}
