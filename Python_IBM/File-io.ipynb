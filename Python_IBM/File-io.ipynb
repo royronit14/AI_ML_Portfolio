{
 "cells": [
  {
   "cell_type": "markdown",
   "id": "61c257f9",
   "metadata": {},
   "source": [
    "Opening A File"
   ]
  },
  {
   "cell_type": "markdown",
   "id": "d339ebc1",
   "metadata": {},
   "source": [
    "Reading Text Files"
   ]
  },
  {
   "cell_type": "code",
   "execution_count": 2,
   "id": "a5ed516f",
   "metadata": {},
   "outputs": [],
   "source": [
    "# Read the Example1.txt\n",
    "example1 = \"example1.txt\"\n",
    "file1 = open(example1, \"r\")"
   ]
  },
  {
   "cell_type": "code",
   "execution_count": 3,
   "id": "ed277d9f",
   "metadata": {},
   "outputs": [
    {
     "data": {
      "text/plain": [
       "'example1.txt'"
      ]
     },
     "execution_count": 3,
     "metadata": {},
     "output_type": "execute_result"
    }
   ],
   "source": [
    "# Print the path of file\n",
    "\n",
    "file1.name"
   ]
  },
  {
   "cell_type": "code",
   "execution_count": 4,
   "id": "29c60e3e",
   "metadata": {},
   "outputs": [
    {
     "data": {
      "text/plain": [
       "'r'"
      ]
     },
     "execution_count": 4,
     "metadata": {},
     "output_type": "execute_result"
    }
   ],
   "source": [
    "# Print the mode of file, either 'r' or 'w'\n",
    "\n",
    "file1.mode"
   ]
  },
  {
   "cell_type": "code",
   "execution_count": 5,
   "id": "17d5311b",
   "metadata": {},
   "outputs": [
    {
     "data": {
      "text/plain": [
       "'This is Line 1\\nThis is Line 2\\nThis is Line 3\\nThis is Line 4'"
      ]
     },
     "execution_count": 5,
     "metadata": {},
     "output_type": "execute_result"
    }
   ],
   "source": [
    "# Read the file\n",
    "\n",
    "FileContent = file1.read()\n",
    "FileContent"
   ]
  },
  {
   "cell_type": "code",
   "execution_count": 6,
   "id": "aab33803",
   "metadata": {},
   "outputs": [
    {
     "name": "stdout",
     "output_type": "stream",
     "text": [
      "This is Line 1\n",
      "This is Line 2\n",
      "This is Line 3\n",
      "This is Line 4\n"
     ]
    }
   ],
   "source": [
    "# Print the file with '\\n' as a new line\n",
    "\n",
    "print(FileContent)"
   ]
  },
  {
   "cell_type": "code",
   "execution_count": 7,
   "id": "68f71082",
   "metadata": {},
   "outputs": [
    {
     "data": {
      "text/plain": [
       "str"
      ]
     },
     "execution_count": 7,
     "metadata": {},
     "output_type": "execute_result"
    }
   ],
   "source": [
    "# Type of file content\n",
    "\n",
    "type(FileContent)"
   ]
  },
  {
   "cell_type": "code",
   "execution_count": 8,
   "id": "9a6c0883",
   "metadata": {},
   "outputs": [],
   "source": [
    "# Close file after finish\n",
    "\n",
    "file1.close()"
   ]
  },
  {
   "cell_type": "markdown",
   "id": "8296b1cd",
   "metadata": {},
   "source": [
    "A Better Way to Open a File\n",
    "\n",
    "Using the with statement is better practice, it automatically closes the file even if the code encounters an exception. The code will run everything in the indent block then close the file object."
   ]
  },
  {
   "cell_type": "code",
   "execution_count": 9,
   "id": "45041c03",
   "metadata": {},
   "outputs": [
    {
     "name": "stdout",
     "output_type": "stream",
     "text": [
      "This is Line 1\n",
      "This is Line 2\n",
      "This is Line 3\n",
      "This is Line 4\n"
     ]
    }
   ],
   "source": [
    "# Open file using with\n",
    "\n",
    "with open(example1, \"r\") as file1:\n",
    "    FileContent = file1.read()\n",
    "    print(FileContent)"
   ]
  },
  {
   "cell_type": "code",
   "execution_count": 10,
   "id": "3551f942",
   "metadata": {},
   "outputs": [
    {
     "data": {
      "text/plain": [
       "True"
      ]
     },
     "execution_count": 10,
     "metadata": {},
     "output_type": "execute_result"
    }
   ],
   "source": [
    "# Verify if the file is closed\n",
    "\n",
    "file1.closed"
   ]
  },
  {
   "cell_type": "code",
   "execution_count": 11,
   "id": "ec9945f0",
   "metadata": {},
   "outputs": [
    {
     "name": "stdout",
     "output_type": "stream",
     "text": [
      "This is Line 1\n",
      "This is Line 2\n",
      "This is Line 3\n",
      "This is Line 4\n"
     ]
    }
   ],
   "source": [
    "# See the content of file\n",
    "\n",
    "print(FileContent)"
   ]
  },
  {
   "cell_type": "code",
   "execution_count": 12,
   "id": "cbd0a34b",
   "metadata": {},
   "outputs": [
    {
     "name": "stdout",
     "output_type": "stream",
     "text": [
      "This\n"
     ]
    }
   ],
   "source": [
    "# Read first four characters\n",
    "\n",
    "with open(example1, \"r\") as file1:\n",
    "    print(file1.read(4))"
   ]
  },
  {
   "cell_type": "code",
   "execution_count": 13,
   "id": "a2ab503a",
   "metadata": {},
   "outputs": [
    {
     "name": "stdout",
     "output_type": "stream",
     "text": [
      "This\n",
      " is \n",
      "Line 1\n",
      "\n",
      "This is Line 2\n",
      "\n"
     ]
    }
   ],
   "source": [
    "with open(example1, \"r\") as file1:\n",
    "    print(file1.read(4))\n",
    "    print(file1.read(4))\n",
    "    print(file1.read(7))\n",
    "    print(file1.read(15))"
   ]
  },
  {
   "cell_type": "markdown",
   "id": "9d2a5a61",
   "metadata": {},
   "source": [
    "We can also read one line of the file at a time using the method readline():"
   ]
  },
  {
   "cell_type": "code",
   "execution_count": 14,
   "id": "206f77fa",
   "metadata": {},
   "outputs": [
    {
     "name": "stdout",
     "output_type": "stream",
     "text": [
      "first line: This is Line 1\n",
      "\n"
     ]
    }
   ],
   "source": [
    "with open(example1, \"r\") as file1:\n",
    "    print(\"first line: \" + file1.readline())"
   ]
  },
  {
   "cell_type": "markdown",
   "id": "b0bdef53",
   "metadata": {},
   "source": [
    "We can also pass an argument to  readline()  to specify the number of charecters we want to read. However, unlike  read(),  readline() can only read one line at most."
   ]
  },
  {
   "cell_type": "code",
   "execution_count": 15,
   "id": "6a07e20b",
   "metadata": {},
   "outputs": [
    {
     "name": "stdout",
     "output_type": "stream",
     "text": [
      "This is Line 1\n",
      "\n",
      "This is Line 2\n",
      "This \n"
     ]
    }
   ],
   "source": [
    "with open(example1, \"r\") as file1:\n",
    "    print(file1.readline(20)) # does not read past the end of line\n",
    "    print(file1.read(20)) # Returns the next 20 chars"
   ]
  },
  {
   "cell_type": "code",
   "execution_count": 16,
   "id": "ac7fd796",
   "metadata": {},
   "outputs": [
    {
     "name": "stdout",
     "output_type": "stream",
     "text": [
      "This is Line 1\n",
      "\n",
      "This is Line 2\n",
      "\n",
      "This is Line 3\n",
      "\n",
      "This is Line 4\n"
     ]
    }
   ],
   "source": [
    "#using for loop\n",
    "with open(example1, \"r\") as file1:\n",
    "    for line in file1:\n",
    "        print(line)"
   ]
  },
  {
   "cell_type": "markdown",
   "id": "3a10ae25",
   "metadata": {},
   "source": [
    "We can use the method readlines() to save the text file to a list:"
   ]
  },
  {
   "cell_type": "code",
   "execution_count": 18,
   "id": "de914620",
   "metadata": {},
   "outputs": [
    {
     "name": "stdout",
     "output_type": "stream",
     "text": [
      "['This is Line 1\\n', 'This is Line 2\\n', 'This is Line 3\\n', 'This is Line 4']\n"
     ]
    }
   ],
   "source": [
    "with open(example1, \"r\") as file1:\n",
    "    FileasList = file1.readlines()\n",
    "\n",
    "print(FileasList)"
   ]
  },
  {
   "cell_type": "code",
   "execution_count": 19,
   "id": "ec573833",
   "metadata": {},
   "outputs": [
    {
     "data": {
      "text/plain": [
       "'This is Line 1\\n'"
      ]
     },
     "execution_count": 19,
     "metadata": {},
     "output_type": "execute_result"
    }
   ],
   "source": [
    "# Print the first line\n",
    "\n",
    "FileasList[0]"
   ]
  },
  {
   "cell_type": "markdown",
   "id": "ea2012ed",
   "metadata": {},
   "source": [
    "Writing a Line"
   ]
  },
  {
   "cell_type": "code",
   "execution_count": 28,
   "id": "8709c38a",
   "metadata": {},
   "outputs": [],
   "source": [
    "with open('example3.txt', \"w\") as file1:\n",
    "    file1.write(\"This is Line 1.\\n\")\n",
    "    file1.write(\"This is Line 2.\\n\")\n",
    "    file1.write(\"This is Line 3.\\n\")\n",
    "#agar /n ni lagayenge toh ek ke baad ek likhte rahega \n"
   ]
  },
  {
   "cell_type": "code",
   "execution_count": 31,
   "id": "d0388f03",
   "metadata": {},
   "outputs": [],
   "source": [
    "Lines = [\"This is Using a List for writing\\n\",\"This is Line 1.\\n\", \"This is line 2.\\n\", \"This is line 3.\\n\"]\n",
    "with open('Example4.txt',\"w\") as file1:\n",
    "    for line in Lines:\n",
    "        file1.write(line)"
   ]
  },
  {
   "cell_type": "markdown",
   "id": "a9f494ad",
   "metadata": {},
   "source": [
    "Writing Files"
   ]
  },
  {
   "cell_type": "code",
   "execution_count": 33,
   "id": "9bff1a24",
   "metadata": {},
   "outputs": [],
   "source": [
    "exmp2 = 'Example5.txt'\n",
    "with open(exmp2, 'w') as writefile:\n",
    "    writefile.write(\"This is line A\")"
   ]
  },
  {
   "cell_type": "code",
   "execution_count": 34,
   "id": "a6c5059b",
   "metadata": {},
   "outputs": [
    {
     "name": "stdout",
     "output_type": "stream",
     "text": [
      "This is line A\n"
     ]
    }
   ],
   "source": [
    "# Read file\n",
    "\n",
    "with open(exmp2, 'r') as testwritefile:\n",
    "    print(testwritefile.read())"
   ]
  },
  {
   "cell_type": "code",
   "execution_count": 35,
   "id": "9866abc8",
   "metadata": {},
   "outputs": [],
   "source": [
    "#Write lines to file\n",
    "\n",
    "with open(exmp2, 'w') as writefile:\n",
    "    writefile.write(\"This is line A\\n\")\n",
    "    writefile.write(\"This is line B\\n\")"
   ]
  },
  {
   "cell_type": "code",
   "execution_count": 36,
   "id": "d569c446",
   "metadata": {},
   "outputs": [
    {
     "name": "stdout",
     "output_type": "stream",
     "text": [
      "This is line A\n",
      "This is line B\n",
      "\n"
     ]
    }
   ],
   "source": [
    "# Check whether write to file\n",
    "\n",
    "with open(exmp2, 'r') as testwritefile:\n",
    "    print(testwritefile.read())"
   ]
  },
  {
   "cell_type": "code",
   "execution_count": 37,
   "id": "57420f6e",
   "metadata": {},
   "outputs": [
    {
     "data": {
      "text/plain": [
       "['This is line A\\n', 'This is line B\\n', 'This is line C\\n']"
      ]
     },
     "execution_count": 37,
     "metadata": {},
     "output_type": "execute_result"
    }
   ],
   "source": [
    "# Sample list of text\n",
    "\n",
    "Lines = [\"This is line A\\n\", \"This is line B\\n\", \"This is line C\\n\"]\n",
    "Lines"
   ]
  },
  {
   "cell_type": "code",
   "execution_count": 39,
   "id": "974f5a93",
   "metadata": {},
   "outputs": [
    {
     "name": "stdout",
     "output_type": "stream",
     "text": [
      "This is line A\n",
      "\n",
      "This is line B\n",
      "\n",
      "This is line C\n",
      "\n"
     ]
    }
   ],
   "source": [
    "with open('Example5.txt', 'w') as writefile:\n",
    "    for line in Lines:\n",
    "        print(line)\n",
    "        writefile.write(line)"
   ]
  },
  {
   "cell_type": "code",
   "execution_count": 41,
   "id": "5901c87f",
   "metadata": {},
   "outputs": [
    {
     "name": "stdout",
     "output_type": "stream",
     "text": [
      "This is line A\n",
      "This is line B\n",
      "This is line C\n",
      "\n"
     ]
    }
   ],
   "source": [
    "# Verify if writing to file is successfully executed\n",
    "\n",
    "with open('Example5.txt', 'r') as testwritefile:\n",
    "    print(testwritefile.read())"
   ]
  },
  {
   "cell_type": "markdown",
   "id": "fe4c953d",
   "metadata": {},
   "source": [
    "However, note that setting the mode to w overwrites all the existing data in the file."
   ]
  },
  {
   "cell_type": "code",
   "execution_count": 42,
   "id": "615d1eb3",
   "metadata": {},
   "outputs": [
    {
     "name": "stdout",
     "output_type": "stream",
     "text": [
      "Overwrite\n",
      "\n"
     ]
    }
   ],
   "source": [
    "with open('Example5.txt', 'w') as writefile:\n",
    "    writefile.write(\"Overwrite\\n\")\n",
    "with open('Example5.txt', 'r') as testwritefile:\n",
    "    print(testwritefile.read())"
   ]
  },
  {
   "cell_type": "markdown",
   "id": "96113f40",
   "metadata": {},
   "source": [
    "Appending Files\n",
    "\n",
    "We can write to files without losing any of the existing data as follows by setting the mode argument to append: a. you can append a new line as follows:"
   ]
  },
  {
   "cell_type": "code",
   "execution_count": 43,
   "id": "0f1c8747",
   "metadata": {},
   "outputs": [],
   "source": [
    "with open('Example5.txt', 'a') as testwritefile:\n",
    "    testwritefile.write(\"This is line C\\n\")\n",
    "    testwritefile.write(\"This is line D\\n\")\n",
    "    testwritefile.write(\"This is line E\\n\")"
   ]
  },
  {
   "cell_type": "code",
   "execution_count": 45,
   "id": "e8975a21",
   "metadata": {},
   "outputs": [
    {
     "name": "stdout",
     "output_type": "stream",
     "text": [
      "Overwrite\n",
      "This is line C\n",
      "This is line D\n",
      "This is line E\n",
      "\n"
     ]
    }
   ],
   "source": [
    "# Verify if the new line is in the text file\n",
    "\n",
    "with open('Example5.txt', 'r') as testwritefile:\n",
    "    print(testwritefile.read())"
   ]
  },
  {
   "cell_type": "markdown",
   "id": "9caa8a15",
   "metadata": {},
   "source": [
    "Additional modes\n",
    "\n",
    "r+ : Reading and writing. Cannot truncate the file.\n",
    "\n",
    "w+ : Writing and reading. Truncates the file.\n",
    "\n",
    "a+ : Appending and Reading. Creates a new file, if none exists. You dont have to dwell on the specifics of each mode for this lab"
   ]
  },
  {
   "cell_type": "code",
   "execution_count": 47,
   "id": "90e8a176",
   "metadata": {},
   "outputs": [
    {
     "name": "stdout",
     "output_type": "stream",
     "text": [
      "\n"
     ]
    }
   ],
   "source": [
    "with open('Example5.txt', 'a+') as testwritefile:\n",
    "    testwritefile.write(\"This is line E\\n\")\n",
    "    print(testwritefile.read())"
   ]
  },
  {
   "cell_type": "markdown",
   "id": "5727d1a1",
   "metadata": {},
   "source": [
    "Copying a file"
   ]
  },
  {
   "cell_type": "code",
   "execution_count": 48,
   "id": "8a069687",
   "metadata": {},
   "outputs": [],
   "source": [
    "with open(\"Example5.txt\",\"r\") as readFile:\n",
    "    with open(\"Example6.txt\",\"w\") as writeFile:\n",
    "        for line in readFile:\n",
    "            writeFile.write(line)"
   ]
  }
 ],
 "metadata": {
  "kernelspec": {
   "display_name": "Python 3",
   "language": "python",
   "name": "python3"
  },
  "language_info": {
   "codemirror_mode": {
    "name": "ipython",
    "version": 3
   },
   "file_extension": ".py",
   "mimetype": "text/x-python",
   "name": "python",
   "nbconvert_exporter": "python",
   "pygments_lexer": "ipython3",
   "version": "3.10.0"
  }
 },
 "nbformat": 4,
 "nbformat_minor": 5
}
