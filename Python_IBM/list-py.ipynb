{
 "cells": [
  {
   "cell_type": "markdown",
   "id": "25bb6393",
   "metadata": {},
   "source": [
    "Lists\n",
    "\n",
    "It is also Ordered Sequence, it is Mutable, Can contain tuple inside a list, a list inside a list"
   ]
  },
  {
   "cell_type": "code",
   "execution_count": 1,
   "id": "b9cda715",
   "metadata": {},
   "outputs": [],
   "source": [
    "lst = [\"Ronit Roy\", 10.1, 2004, [1,2], (\"Cake\", \"Ice\")]"
   ]
  },
  {
   "cell_type": "code",
   "execution_count": 2,
   "id": "aba8bc66",
   "metadata": {},
   "outputs": [
    {
     "name": "stdout",
     "output_type": "stream",
     "text": [
      "['Ronit Roy', 10.1, 2004, [1, 2], ('Cake', 'Ice')]\n"
     ]
    }
   ],
   "source": [
    "print(lst)"
   ]
  },
  {
   "cell_type": "code",
   "execution_count": null,
   "id": "b46ba1ce",
   "metadata": {},
   "outputs": [
    {
     "data": {
      "text/plain": [
       "('Cake', 'Ice')"
      ]
     },
     "execution_count": 4,
     "metadata": {},
     "output_type": "execute_result"
    }
   ],
   "source": [
    "#List Indexing\n",
    "lst[0]\n",
    "lst[2]\n",
    "lst[4]\n",
    "lst[2]"
   ]
  },
  {
   "cell_type": "code",
   "execution_count": 5,
   "id": "c658ba54",
   "metadata": {},
   "outputs": [
    {
     "data": {
      "text/plain": [
       "[2004, [1, 2], ('Cake', 'Ice')]"
      ]
     },
     "execution_count": 5,
     "metadata": {},
     "output_type": "execute_result"
    }
   ],
   "source": [
    "#List Slicing\n",
    "lst[2:5]"
   ]
  },
  {
   "cell_type": "code",
   "execution_count": 37,
   "id": "abd65c4d",
   "metadata": {},
   "outputs": [
    {
     "data": {
      "text/plain": [
       "[1, 2, 3, 1, 1, 1]"
      ]
     },
     "execution_count": 37,
     "metadata": {},
     "output_type": "execute_result"
    }
   ],
   "source": [
    "[1,2,3] + [1,1,1]"
   ]
  },
  {
   "cell_type": "code",
   "execution_count": 12,
   "id": "37da9c6b",
   "metadata": {},
   "outputs": [
    {
     "name": "stdout",
     "output_type": "stream",
     "text": [
      "['Ronit Roy', 10.1, 2004, [1, 2], ('Cake', 'Ice'), 'popinnnnnn', 2739, 'Poppinn', 789, 'Poppinn', 789]\n"
     ]
    }
   ],
   "source": [
    "lst.extend([\"Poppinn\", 789])\n",
    "print(lst)"
   ]
  },
  {
   "cell_type": "code",
   "execution_count": 14,
   "id": "6bd02fb7",
   "metadata": {},
   "outputs": [
    {
     "name": "stdout",
     "output_type": "stream",
     "text": [
      "['Ronit Roy', 10.1, 2004, [1, 2], ('Cake', 'Ice'), 'popinnnnnn', 2739, 'Poppinn', 789, 'Poppinn', 789, ['Himan', 89], ['Himan', 89]]\n"
     ]
    }
   ],
   "source": [
    "lst.append([\"Himan\",89])\n",
    "print(lst)"
   ]
  },
  {
   "cell_type": "code",
   "execution_count": 15,
   "id": "3ad087b8",
   "metadata": {},
   "outputs": [
    {
     "data": {
      "text/plain": [
       "['Ronit', 'Roy', 'is', 'the', 'best']"
      ]
     },
     "execution_count": 15,
     "metadata": {},
     "output_type": "execute_result"
    }
   ],
   "source": [
    "#Split function in List\n",
    "\"Ronit Roy is the best\".split()"
   ]
  },
  {
   "cell_type": "code",
   "execution_count": 17,
   "id": "7dabc4f1",
   "metadata": {},
   "outputs": [
    {
     "data": {
      "text/plain": [
       "['A', 'B', 'C', 'D']"
      ]
     },
     "execution_count": 17,
     "metadata": {},
     "output_type": "execute_result"
    }
   ],
   "source": [
    "\"A,B,C,D\".split(\",\")"
   ]
  },
  {
   "cell_type": "markdown",
   "id": "a39b1a31",
   "metadata": {},
   "source": [
    "Aliasing"
   ]
  },
  {
   "cell_type": "code",
   "execution_count": 20,
   "id": "66843264",
   "metadata": {},
   "outputs": [],
   "source": [
    "#Aliasing\n",
    "A = [\"Ronit\", 10, 12.1]\n",
    "B = A"
   ]
  },
  {
   "cell_type": "code",
   "execution_count": 19,
   "id": "0466bbc8",
   "metadata": {},
   "outputs": [
    {
     "name": "stdout",
     "output_type": "stream",
     "text": [
      "['Ronit', 10, 12.1]\n"
     ]
    }
   ],
   "source": [
    "print(B)"
   ]
  },
  {
   "cell_type": "code",
   "execution_count": null,
   "id": "0488636f",
   "metadata": {},
   "outputs": [
    {
     "name": "stdout",
     "output_type": "stream",
     "text": [
      "['Ice', 10, 12.1]\n"
     ]
    }
   ],
   "source": [
    "A[0]=\"Ice\"\n",
    "print(B)   #Value at 0th index of B will also change if changing the 0th elemnt of A"
   ]
  },
  {
   "cell_type": "markdown",
   "id": "70a563d7",
   "metadata": {},
   "source": [
    "Clone in List"
   ]
  },
  {
   "cell_type": "code",
   "execution_count": 32,
   "id": "f8780aa8",
   "metadata": {},
   "outputs": [],
   "source": [
    "A = [\"Ronit\", 10, 12.1]\n",
    "B = A[:]"
   ]
  },
  {
   "cell_type": "code",
   "execution_count": 33,
   "id": "24b1f384",
   "metadata": {},
   "outputs": [
    {
     "name": "stdout",
     "output_type": "stream",
     "text": [
      "['Ronit', 10, 12.1]\n"
     ]
    }
   ],
   "source": [
    "print(B)"
   ]
  },
  {
   "cell_type": "code",
   "execution_count": null,
   "id": "5e216dcf",
   "metadata": {},
   "outputs": [
    {
     "name": "stdout",
     "output_type": "stream",
     "text": [
      "['Ronit', 10, 12.1]\n"
     ]
    }
   ],
   "source": [
    "A[0] = \"cakeeee\"\n",
    "print(B)   #Changing the value of 0th index in A doesn't change the value at 0th index of B"
   ]
  },
  {
   "cell_type": "code",
   "execution_count": 36,
   "id": "04bc076b",
   "metadata": {},
   "outputs": [
    {
     "name": "stdout",
     "output_type": "stream",
     "text": [
      "Before change: ['Ronit', 10, 12.1]\n",
      "After change: [10, 12.1]\n"
     ]
    }
   ],
   "source": [
    "A = [\"Ronit\", 10, 12.1]\n",
    "print('Before change:', A)\n",
    "del(A[0])\n",
    "print('After change:', A)"
   ]
  }
 ],
 "metadata": {
  "kernelspec": {
   "display_name": "Python 3",
   "language": "python",
   "name": "python3"
  },
  "language_info": {
   "codemirror_mode": {
    "name": "ipython",
    "version": 3
   },
   "file_extension": ".py",
   "mimetype": "text/x-python",
   "name": "python",
   "nbconvert_exporter": "python",
   "pygments_lexer": "ipython3",
   "version": "3.10.0"
  }
 },
 "nbformat": 4,
 "nbformat_minor": 5
}
