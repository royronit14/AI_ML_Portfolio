{
 "cells": [
  {
   "cell_type": "markdown",
   "id": "e09b10c1",
   "metadata": {},
   "source": [
    "Sets"
   ]
  },
  {
   "cell_type": "markdown",
   "id": "c4f5384a",
   "metadata": {},
   "source": [
    "Types of Collections\n",
    "\n",
    "they are unordered, means they do not record the element positions\n",
    "\n",
    "it only has unique values, even if we put up duplicate values, at time of execution they will be removed"
   ]
  },
  {
   "cell_type": "code",
   "execution_count": 4,
   "id": "7ac728b3",
   "metadata": {},
   "outputs": [
    {
     "data": {
      "text/plain": [
       "{122, 2, '2004', '2005', 'Ronit', 'Thrill'}"
      ]
     },
     "execution_count": 4,
     "metadata": {},
     "output_type": "execute_result"
    }
   ],
   "source": [
    "album_Set1 = {\"Ronit\",\"2005\",122,2,122,\"2005\",\"2004\",\"Thrill\"}\n",
    "album_Set1"
   ]
  },
  {
   "cell_type": "markdown",
   "id": "036d1937",
   "metadata": {},
   "source": [
    "Converting A list to a Set"
   ]
  },
  {
   "cell_type": "code",
   "execution_count": 5,
   "id": "87b90189",
   "metadata": {},
   "outputs": [
    {
     "data": {
      "text/plain": [
       "{2005, 'BOB', 'Ronit', 'Thrill'}"
      ]
     },
     "execution_count": 5,
     "metadata": {},
     "output_type": "execute_result"
    }
   ],
   "source": [
    "album_lst = [\"Ronit\", \"Thrill\", 2005,\"BOB\",\"Ronit\"]\n",
    "album_set = set(album_lst)\n",
    "album_set"
   ]
  },
  {
   "cell_type": "markdown",
   "id": "20dcb698",
   "metadata": {},
   "source": [
    "Set Operations"
   ]
  },
  {
   "cell_type": "code",
   "execution_count": null,
   "id": "783ed882",
   "metadata": {},
   "outputs": [
    {
     "name": "stdout",
     "output_type": "stream",
     "text": [
      "{'BoB', 'Ac/DC', 'Nvidia', 'Thrill', 'Ronit'}\n"
     ]
    }
   ],
   "source": [
    "A = {\"Ac/DC\", \"Ronit\", \"Thrill\", \"Thrill\", \"BoB\"}\n",
    "A.add(\"Nvidia\")\n",
    "print(A) #or A"
   ]
  },
  {
   "cell_type": "code",
   "execution_count": 13,
   "id": "41f6886b",
   "metadata": {},
   "outputs": [
    {
     "data": {
      "text/plain": [
       "{'Ac/DC', 'Ronit', 'Thrill'}"
      ]
     },
     "execution_count": 13,
     "metadata": {},
     "output_type": "execute_result"
    }
   ],
   "source": [
    "A.remove(\"BoB\")\n",
    "A"
   ]
  },
  {
   "cell_type": "code",
   "execution_count": 14,
   "id": "35be5376",
   "metadata": {},
   "outputs": [
    {
     "data": {
      "text/plain": [
       "True"
      ]
     },
     "execution_count": 14,
     "metadata": {},
     "output_type": "execute_result"
    }
   ],
   "source": [
    "\"Thrill\" in A"
   ]
  },
  {
   "cell_type": "code",
   "execution_count": 17,
   "id": "94b18f6b",
   "metadata": {},
   "outputs": [
    {
     "data": {
      "text/plain": [
       "{'2005', 'BOB', 'Roy', 'Thrill'}"
      ]
     },
     "execution_count": 17,
     "metadata": {},
     "output_type": "execute_result"
    }
   ],
   "source": [
    "#Intersection\n",
    "set1 = {\"Roy\", \"2005\", \"Thrill\", \"BOB\"}\n",
    "set2 = {\"Avengers\",\"World\", \"Roy\", \"2005\"}\n",
    "set1"
   ]
  },
  {
   "cell_type": "code",
   "execution_count": 18,
   "id": "c7ddfda2",
   "metadata": {},
   "outputs": [
    {
     "data": {
      "text/plain": [
       "{'2005', 'Avengers', 'Roy', 'World'}"
      ]
     },
     "execution_count": 18,
     "metadata": {},
     "output_type": "execute_result"
    }
   ],
   "source": [
    "set2"
   ]
  },
  {
   "cell_type": "code",
   "execution_count": 20,
   "id": "55169e5c",
   "metadata": {},
   "outputs": [
    {
     "data": {
      "text/plain": [
       "{'2005', 'Roy'}"
      ]
     },
     "execution_count": 20,
     "metadata": {},
     "output_type": "execute_result"
    }
   ],
   "source": [
    "set3 = set1 & set2 \n",
    "set3"
   ]
  },
  {
   "cell_type": "code",
   "execution_count": null,
   "id": "a341f9e7",
   "metadata": {},
   "outputs": [
    {
     "data": {
      "text/plain": [
       "True"
      ]
     },
     "execution_count": 21,
     "metadata": {},
     "output_type": "execute_result"
    }
   ],
   "source": [
    "#Checking if set3 is a subset of set1\n",
    "set3.issubset(set1)\n"
   ]
  },
  {
   "cell_type": "code",
   "execution_count": null,
   "id": "39f54667",
   "metadata": {},
   "outputs": [],
   "source": []
  }
 ],
 "metadata": {
  "kernelspec": {
   "display_name": "Python 3",
   "language": "python",
   "name": "python3"
  },
  "language_info": {
   "codemirror_mode": {
    "name": "ipython",
    "version": 3
   },
   "file_extension": ".py",
   "mimetype": "text/x-python",
   "name": "python",
   "nbconvert_exporter": "python",
   "pygments_lexer": "ipython3",
   "version": "3.10.0"
  }
 },
 "nbformat": 4,
 "nbformat_minor": 5
}
