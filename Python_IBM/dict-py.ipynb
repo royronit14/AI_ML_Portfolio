{
 "cells": [
  {
   "cell_type": "markdown",
   "id": "b0baafd7",
   "metadata": {},
   "source": [
    "Dictionaries"
   ]
  },
  {
   "cell_type": "markdown",
   "id": "fb2dc02d",
   "metadata": {},
   "source": [
    "Denoted By Curly Brakets {}\n",
    "\n",
    "The Values can be Mutable and Duplicates\n",
    "\n",
    "The keys are immutable and Unique"
   ]
  },
  {
   "cell_type": "markdown",
   "id": "28f0db86",
   "metadata": {},
   "source": []
  },
  {
   "cell_type": "code",
   "execution_count": 1,
   "id": "d48d5301",
   "metadata": {},
   "outputs": [],
   "source": [
    "Dict = {\"Key1\" : \"Ronit\", \"Avengers\": \"2009\", \"F1\" : \"2025\", \"Game of Thrones\" : \"8 Seasons\"}"
   ]
  },
  {
   "cell_type": "code",
   "execution_count": 3,
   "id": "f9db25f8",
   "metadata": {},
   "outputs": [
    {
     "data": {
      "text/plain": [
       "'Ronit'"
      ]
     },
     "execution_count": 3,
     "metadata": {},
     "output_type": "execute_result"
    }
   ],
   "source": [
    "Dict[\"Key1\"]"
   ]
  },
  {
   "cell_type": "code",
   "execution_count": 4,
   "id": "dd2d141c",
   "metadata": {},
   "outputs": [
    {
     "data": {
      "text/plain": [
       "'2025'"
      ]
     },
     "execution_count": 4,
     "metadata": {},
     "output_type": "execute_result"
    }
   ],
   "source": [
    "Dict[\"F1\"]"
   ]
  },
  {
   "cell_type": "code",
   "execution_count": 5,
   "id": "1bcdf677",
   "metadata": {},
   "outputs": [],
   "source": [
    "Dict[\"Avengers\"]=\"2012\""
   ]
  },
  {
   "cell_type": "code",
   "execution_count": 6,
   "id": "b8196145",
   "metadata": {},
   "outputs": [
    {
     "data": {
      "text/plain": [
       "'2012'"
      ]
     },
     "execution_count": 6,
     "metadata": {},
     "output_type": "execute_result"
    }
   ],
   "source": [
    "Dict[\"Avengers\"]"
   ]
  },
  {
   "cell_type": "code",
   "execution_count": 8,
   "id": "049ad8e9",
   "metadata": {},
   "outputs": [],
   "source": [
    "Dict[\"Clash of Clans\"] = \"It is a Multiplayer Game\""
   ]
  },
  {
   "cell_type": "code",
   "execution_count": 9,
   "id": "c227a43b",
   "metadata": {},
   "outputs": [
    {
     "data": {
      "text/plain": [
       "'It is a Multiplayer Game'"
      ]
     },
     "execution_count": 9,
     "metadata": {},
     "output_type": "execute_result"
    }
   ],
   "source": [
    "Dict[\"Clash of Clans\"]"
   ]
  },
  {
   "cell_type": "code",
   "execution_count": 10,
   "id": "2a29b9d9",
   "metadata": {},
   "outputs": [
    {
     "data": {
      "text/plain": [
       "dict_keys(['Key1', 'Avengers', 'F1', 'Game of Thrones', 'Clash of Clans'])"
      ]
     },
     "execution_count": 10,
     "metadata": {},
     "output_type": "execute_result"
    }
   ],
   "source": [
    "Dict.keys()"
   ]
  },
  {
   "cell_type": "code",
   "execution_count": 11,
   "id": "4de09325",
   "metadata": {},
   "outputs": [
    {
     "data": {
      "text/plain": [
       "dict_values(['Ronit', '2012', '2025', '8 Seasons', 'It is a Multiplayer Game'])"
      ]
     },
     "execution_count": 11,
     "metadata": {},
     "output_type": "execute_result"
    }
   ],
   "source": [
    "Dict.values()"
   ]
  },
  {
   "cell_type": "code",
   "execution_count": 12,
   "id": "81f6d304",
   "metadata": {},
   "outputs": [
    {
     "data": {
      "text/plain": [
       "True"
      ]
     },
     "execution_count": 12,
     "metadata": {},
     "output_type": "execute_result"
    }
   ],
   "source": [
    "\"Avengers\" in Dict"
   ]
  },
  {
   "cell_type": "code",
   "execution_count": 13,
   "id": "ea434d28",
   "metadata": {},
   "outputs": [
    {
     "name": "stdout",
     "output_type": "stream",
     "text": [
      "{'Key1': 'Ronit', 'Avengers': '2012', 'F1': '2025', 'Game of Thrones': '8 Seasons', 'Clash of Clans': 'It is a Multiplayer Game'}\n"
     ]
    }
   ],
   "source": [
    "print(Dict)"
   ]
  },
  {
   "cell_type": "code",
   "execution_count": null,
   "id": "5e76beba",
   "metadata": {},
   "outputs": [],
   "source": []
  }
 ],
 "metadata": {
  "kernelspec": {
   "display_name": "Python 3",
   "language": "python",
   "name": "python3"
  },
  "language_info": {
   "codemirror_mode": {
    "name": "ipython",
    "version": 3
   },
   "file_extension": ".py",
   "mimetype": "text/x-python",
   "name": "python",
   "nbconvert_exporter": "python",
   "pygments_lexer": "ipython3",
   "version": "3.10.0"
  }
 },
 "nbformat": 4,
 "nbformat_minor": 5
}
