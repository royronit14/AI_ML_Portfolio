{
 "cells": [
  {
   "cell_type": "code",
   "execution_count": 2,
   "id": "7881f89d",
   "metadata": {},
   "outputs": [],
   "source": [
    "Name = \"Ronit Roy\""
   ]
  },
  {
   "cell_type": "code",
   "execution_count": 3,
   "id": "78f98c61",
   "metadata": {},
   "outputs": [
    {
     "name": "stdout",
     "output_type": "stream",
     "text": [
      "Ronit Roy\n"
     ]
    }
   ],
   "source": [
    "print(Name)"
   ]
  },
  {
   "cell_type": "code",
   "execution_count": 7,
   "id": "86e12b8c",
   "metadata": {},
   "outputs": [
    {
     "name": "stdout",
     "output_type": "stream",
     "text": [
      "R\n",
      "R\n",
      "t\n"
     ]
    }
   ],
   "source": [
    "print(Name[0])\n",
    "print(Name[6])\n",
    "#print(Name[10])  \n",
    "print(Name[4])"
   ]
  },
  {
   "cell_type": "code",
   "execution_count": 8,
   "id": "e73050da",
   "metadata": {},
   "outputs": [
    {
     "data": {
      "text/plain": [
       "9"
      ]
     },
     "execution_count": 8,
     "metadata": {},
     "output_type": "execute_result"
    }
   ],
   "source": [
    "len(Name)"
   ]
  },
  {
   "cell_type": "markdown",
   "id": "a07e963f",
   "metadata": {},
   "source": [
    "String Concatination"
   ]
  },
  {
   "cell_type": "code",
   "execution_count": 9,
   "id": "c9f86863",
   "metadata": {},
   "outputs": [],
   "source": [
    "Name = \"Ronit Roy\"\n",
    "Statement = Name + \" is the best.\""
   ]
  },
  {
   "cell_type": "code",
   "execution_count": 14,
   "id": "5791f28b",
   "metadata": {},
   "outputs": [
    {
     "name": "stdout",
     "output_type": "stream",
     "text": [
      "Ronit Roy is the best. Hii this is Me.\n"
     ]
    }
   ],
   "source": [
    "print(Statement + \" Hii this is Me.\")"
   ]
  },
  {
   "cell_type": "markdown",
   "id": "a56399cd",
   "metadata": {},
   "source": [
    "String Escape Sequences"
   ]
  },
  {
   "cell_type": "code",
   "execution_count": null,
   "id": "f7761fb8",
   "metadata": {},
   "outputs": [
    {
     "name": "stdout",
     "output_type": "stream",
     "text": [
      "Ronit Roy is \n",
      " the best.\n",
      "Ronit Roy is \t the best.\n",
      "\n",
      "Ronit Roy is \\ the best\n",
      "Ronit Roy is \\ the best.\n"
     ]
    }
   ],
   "source": [
    "print(\"Ronit Roy is \\n the best.\")\n",
    "print(\"Ronit Roy is \\t the best.\")\n",
    "print()\n",
    "print(\"Ronit Roy is \\\\ the best\")\n",
    "#or \n",
    "## r will tell python that string will be display as raw string\n",
    "print(r\"Ronit Roy is \\ the best.\")"
   ]
  },
  {
   "cell_type": "markdown",
   "id": "d73293be",
   "metadata": {},
   "source": [
    "String Methods"
   ]
  },
  {
   "cell_type": "code",
   "execution_count": 15,
   "id": "13744361",
   "metadata": {},
   "outputs": [
    {
     "name": "stdout",
     "output_type": "stream",
     "text": [
      "before upper: Thriller is the sixth studio album\n"
     ]
    }
   ],
   "source": [
    "a = \"Thriller is the sixth studio album\"\n",
    "print(\"before upper:\", a)"
   ]
  },
  {
   "cell_type": "code",
   "execution_count": 16,
   "id": "b4f77e1b",
   "metadata": {},
   "outputs": [
    {
     "name": "stdout",
     "output_type": "stream",
     "text": [
      "After Upper:  THRILLER IS THE SIXTH STUDIO ALBUM\n"
     ]
    }
   ],
   "source": [
    "b = a.upper()\n",
    "print(\"After Upper: \", b)"
   ]
  },
  {
   "cell_type": "code",
   "execution_count": null,
   "id": "77e98537",
   "metadata": {},
   "outputs": [
    {
     "data": {
      "text/plain": [
       "1"
      ]
     },
     "execution_count": 17,
     "metadata": {},
     "output_type": "execute_result"
    }
   ],
   "source": [
    "# Find the substring in the string. \n",
    "#Only the index of the first elment of substring in string will be the output\n",
    "\n",
    "name = \"The BodyGuard. He is a person.\"\n",
    "name.find('he')"
   ]
  },
  {
   "cell_type": "code",
   "execution_count": null,
   "id": "bd4e392c",
   "metadata": {},
   "outputs": [
    {
     "data": {
      "text/plain": [
       "-1"
      ]
     },
     "execution_count": 21,
     "metadata": {},
     "output_type": "execute_result"
    }
   ],
   "source": [
    "#find the substring in the given \n",
    "name.find(\"pe\")\n",
    "#name.find(\"pess\") returns -1 because string not found"
   ]
  },
  {
   "cell_type": "markdown",
   "id": "79954bda",
   "metadata": {},
   "source": [
    "The method Split splits the string at the specified separator, and returns a list.\n",
    "\n",
    "Syntax\n",
    "\n",
    "string.split(separator, maxsplit)\n",
    "\n",
    "Parameters\n",
    "\n",
    "separator (optional): This is the delimiter at which the string will be split. If not provided, the default separator is any whitespace.\n",
    "\n",
    "maxsplit (optional): This specifies the maximum number of splits to perform. If not provided, there is no limit on the number of splits.\n",
    "Return Value:\n",
    "\n",
    "The method returns a list of substrings."
   ]
  },
  {
   "cell_type": "code",
   "execution_count": 22,
   "id": "9e9a44fc",
   "metadata": {},
   "outputs": [
    {
     "data": {
      "text/plain": [
       "['The', 'BodyGuard']"
      ]
     },
     "execution_count": 22,
     "metadata": {},
     "output_type": "execute_result"
    }
   ],
   "source": [
    "#Split the substring into list\n",
    "name = \"The BodyGuard\"\n",
    "split_string = (name.split())\n",
    "split_string"
   ]
  },
  {
   "cell_type": "code",
   "execution_count": 36,
   "id": "f4bb969b",
   "metadata": {},
   "outputs": [
    {
     "data": {
      "text/plain": [
       "['Th', ' BodyGuard is b', 'st']"
      ]
     },
     "execution_count": 36,
     "metadata": {},
     "output_type": "execute_result"
    }
   ],
   "source": [
    "name = \"The BodyGuard is best\"\n",
    "split_string = (name.split(\"e\", 2)) #split will be done when 'e' comes and the max split is only 2 \n",
    "split_string"
   ]
  }
 ],
 "metadata": {
  "kernelspec": {
   "display_name": "Python 3",
   "language": "python",
   "name": "python3"
  },
  "language_info": {
   "codemirror_mode": {
    "name": "ipython",
    "version": 3
   },
   "file_extension": ".py",
   "mimetype": "text/x-python",
   "name": "python",
   "nbconvert_exporter": "python",
   "pygments_lexer": "ipython3",
   "version": "3.10.0"
  }
 },
 "nbformat": 4,
 "nbformat_minor": 5
}
