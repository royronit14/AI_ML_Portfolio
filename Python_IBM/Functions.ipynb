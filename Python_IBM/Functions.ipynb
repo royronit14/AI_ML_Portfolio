{
 "cells": [
  {
   "cell_type": "markdown",
   "id": "ecd88ef3",
   "metadata": {},
   "source": [
    "Functions"
   ]
  },
  {
   "cell_type": "markdown",
   "id": "2decdb89",
   "metadata": {},
   "source": [
    "There are two types of functions :\n",
    "\n",
    "Pre-defined functions\n",
    "\n",
    "User defined functions"
   ]
  },
  {
   "cell_type": "markdown",
   "id": "49ac2ecc",
   "metadata": {},
   "source": [
    "Functions blocks begin def followed by the function name and parentheses ()\n",
    "\n",
    "There are input parameters or arguments that should be placed within these parentheses.\n",
    "\n",
    "You can also define parameters inside these parentheses.\n",
    "\n",
    "There is a body within every function that starts with a colon (:) and is indented.\n",
    "\n",
    "You can also place documentation before the body.\n",
    "\n",
    "The statement return exits a function, optionally passing back a value.\n"
   ]
  },
  {
   "cell_type": "code",
   "execution_count": 2,
   "id": "54ea740c",
   "metadata": {},
   "outputs": [
    {
     "data": {
      "text/plain": [
       "3"
      ]
     },
     "execution_count": 2,
     "metadata": {},
     "output_type": "execute_result"
    }
   ],
   "source": [
    "def add(a):\n",
    "    b = a + 1\n",
    "    return b\n",
    "\n",
    "a=2\n",
    "add(a)\n"
   ]
  },
  {
   "cell_type": "code",
   "execution_count": 12,
   "id": "8da2a8a4",
   "metadata": {},
   "outputs": [
    {
     "name": "stdout",
     "output_type": "stream",
     "text": [
      "24\n",
      "31.400000000000002\n",
      "The BodyGuard The BodyGuard \n"
     ]
    }
   ],
   "source": [
    "# Define a function for multiple two numbers\n",
    "\n",
    "def Mult(a, b):\n",
    "    c = a * b\n",
    "    return(c)\n",
    "    print('This is not printed')   #since return statement pehle aata hai, aur phr return krke bahar nikal jata hai\n",
    "    \n",
    "result = Mult(12,2)\n",
    "print(result)\n",
    "print(Mult(10.0, 3.14))\n",
    "print(Mult(2, \"The BodyGuard \"))\n"
   ]
  },
  {
   "cell_type": "markdown",
   "id": "f2727ed5",
   "metadata": {},
   "source": [
    "Variables"
   ]
  },
  {
   "cell_type": "markdown",
   "id": "d0260bba",
   "metadata": {},
   "source": [
    "The input to a function is called a formal parameter.\n",
    "\n",
    "A variable that is declared inside a function is called a local variable. The parameter only exists within the function (i.e. the point where the function starts and stops).\n",
    "\n",
    "A variable that is declared outside a function definition is a global variable, and its value is accessible and modifiable throughout the program. We will discuss more about global variables at the end of the lab."
   ]
  },
  {
   "cell_type": "code",
   "execution_count": 13,
   "id": "45a603d2",
   "metadata": {},
   "outputs": [],
   "source": [
    "def square(a):\n",
    "    \n",
    "    # Local variable b\n",
    "    b = 1\n",
    "    c = a * a + b\n",
    "    print(a, \"if you square + 1\", c) \n",
    "    return(c)"
   ]
  },
  {
   "cell_type": "code",
   "execution_count": 14,
   "id": "1c4ff131",
   "metadata": {},
   "outputs": [
    {
     "name": "stdout",
     "output_type": "stream",
     "text": [
      "The BodyGuard 1980\n",
      "Oldie\n"
     ]
    }
   ],
   "source": [
    "def type_of_album(album, year_released):\n",
    "    \n",
    "    print(album, year_released)\n",
    "    if year_released > 1980:\n",
    "        return \"Modern\"\n",
    "    else:\n",
    "        return \"Oldie\"\n",
    "    \n",
    "x = type_of_album(\"The BodyGuard\", 1980)\n",
    "print(x)"
   ]
  },
  {
   "cell_type": "code",
   "execution_count": 15,
   "id": "f3f383ef",
   "metadata": {},
   "outputs": [
    {
     "name": "stdout",
     "output_type": "stream",
     "text": [
      "The BodyGuard is an album\n"
     ]
    },
    {
     "data": {
      "text/plain": [
       "\"We got a Name Error: name 'internal_var' is not defined. Why?\\n\\nIt's because all the variables we create in the function is a local variable, meaning that the variable assignment does not persist outside the function.\\n\\nBut there is a way to create global variables from within a function as follows:\""
      ]
     },
     "execution_count": 15,
     "metadata": {},
     "output_type": "execute_result"
    }
   ],
   "source": [
    "# Example of global variable\n",
    "\n",
    "album = \"The BodyGuard\"\n",
    "def printer1(album):\n",
    "    internal_var1 = \"Thriller\"\n",
    "    print(album, \"is an album\")\n",
    "    \n",
    "printer1(album )\n",
    "# try runningthe following code\n",
    "#printer1(internal_var1) \n",
    "\n",
    "'''We got a Name Error: name 'internal_var' is not defined. Why?\n",
    "\n",
    "It's because all the variables we create in the function is a local variable, meaning that the variable assignment does not persist outside the function.\n",
    "\n",
    "But there is a way to create global variables from within a function as follows:'''"
   ]
  },
  {
   "cell_type": "code",
   "execution_count": 16,
   "id": "4dab7a40",
   "metadata": {},
   "outputs": [
    {
     "name": "stdout",
     "output_type": "stream",
     "text": [
      "The BodyGuard is an album\n",
      "Thriller is an album\n"
     ]
    }
   ],
   "source": [
    "album = \"The BodyGuard\"\n",
    "\n",
    "def printer(album):\n",
    "    global internal_var \n",
    "    internal_var= \"Thriller\"\n",
    "    print(album,\"is an album\")\n",
    "\n",
    "printer(album) \n",
    "printer(internal_var)"
   ]
  },
  {
   "cell_type": "markdown",
   "id": "48e7d40f",
   "metadata": {},
   "source": [
    "a local variable has precedence over a global variable when they share the same name within the same scope (e.g., inside a function). When a variable is accessed within a function, the function's local variable with that name will be used, effectively overriding the global variable\n",
    "\n",
    "Example is below Mentioned:"
   ]
  },
  {
   "cell_type": "code",
   "execution_count": 17,
   "id": "8b6cd329",
   "metadata": {},
   "outputs": [
    {
     "name": "stdout",
     "output_type": "stream",
     "text": [
      "AC/DC's rating is: 0.0\n",
      "Deep Purple's rating is:  10.0\n",
      "My favourite band is: AC/DC\n"
     ]
    }
   ],
   "source": [
    "# Example of global variable and local variable with the same name\n",
    "myFavouriteBand = \"AC/DC\"\n",
    "\n",
    "def getBandRating(bandname):\n",
    "    myFavouriteBand = \"Deep Purple\"\n",
    "    if bandname == myFavouriteBand:\n",
    "        return 10.0\n",
    "    else:\n",
    "        return 0.0\n",
    "\n",
    "print(\"AC/DC's rating is:\",getBandRating(\"AC/DC\"))\n",
    "print(\"Deep Purple's rating is: \",getBandRating(\"Deep Purple\"))\n",
    "print(\"My favourite band is:\",myFavouriteBand)"
   ]
  },
  {
   "cell_type": "markdown",
   "id": "443eaa5a",
   "metadata": {},
   "source": [
    "Collections and Functions\n",
    "\n",
    "When the number of arguments are unknown for a function, They can all be packed into a tuple as shown:"
   ]
  },
  {
   "cell_type": "code",
   "execution_count": 18,
   "id": "dc8f5053",
   "metadata": {},
   "outputs": [
    {
     "name": "stdout",
     "output_type": "stream",
     "text": [
      "Number of arguments: 3\n",
      "Horsefeather\n",
      "Adonis\n",
      "Bone\n",
      "Number of arguments: 4\n",
      "Sidecar\n",
      "Long Island\n",
      "Mudslide\n",
      "Carriage\n"
     ]
    }
   ],
   "source": [
    "def printAll(*args): # All the arguments are 'packed' into args which can be treated like a tuple\n",
    "    print(\"Number of arguments:\", len(args)) \n",
    "    for argument in args:\n",
    "        print(argument)\n",
    "#printAll with 3 arguments\n",
    "printAll('Horsefeather','Adonis','Bone')\n",
    "#printAll with 4 arguments\n",
    "printAll('Sidecar','Long Island','Mudslide','Carriage')"
   ]
  },
  {
   "cell_type": "code",
   "execution_count": 21,
   "id": "6f153474",
   "metadata": {},
   "outputs": [
    {
     "data": {
      "text/plain": [
       "1"
      ]
     },
     "execution_count": 21,
     "metadata": {},
     "output_type": "execute_result"
    }
   ],
   "source": [
    "sum([1,1,1])   #sum is 3\n",
    "len([sum([1,1,1])])   #len of 3 is 1\n"
   ]
  },
  {
   "cell_type": "code",
   "execution_count": 22,
   "id": "e2b3f552",
   "metadata": {},
   "outputs": [
    {
     "name": "stdout",
     "output_type": "stream",
     "text": [
      "a1\n",
      "b1\n",
      "c1\n"
     ]
    }
   ],
   "source": [
    "def print_function(A):\n",
    "    for a in A:\n",
    "        print(a + '1')\n",
    "print_function(['a', 'b', 'c'])"
   ]
  }
 ],
 "metadata": {
  "kernelspec": {
   "display_name": "Python 3",
   "language": "python",
   "name": "python3"
  },
  "language_info": {
   "codemirror_mode": {
    "name": "ipython",
    "version": 3
   },
   "file_extension": ".py",
   "mimetype": "text/x-python",
   "name": "python",
   "nbconvert_exporter": "python",
   "pygments_lexer": "ipython3",
   "version": "3.10.0"
  }
 },
 "nbformat": 4,
 "nbformat_minor": 5
}
