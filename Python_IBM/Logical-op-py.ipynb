{
 "cells": [
  {
   "cell_type": "markdown",
   "id": "5d95bff9",
   "metadata": {},
   "source": [
    "Logical Operators"
   ]
  },
  {
   "cell_type": "markdown",
   "id": "789c917b",
   "metadata": {},
   "source": [
    "Or, And, not"
   ]
  },
  {
   "cell_type": "code",
   "execution_count": 7,
   "id": "7f6acc75",
   "metadata": {},
   "outputs": [
    {
     "name": "stdout",
     "output_type": "stream",
     "text": [
      "The Year Song is made in between 50's\n"
     ]
    }
   ],
   "source": [
    "year = 1967\n",
    "year = 1954\n",
    "if (year>1950) or (year< 1959):\n",
    "    print(\"The Year Song is made in between 50's\")\n",
    "else:\n",
    "    print(\"The Year date is either before or after 50's or 70s'\")"
   ]
  },
  {
   "cell_type": "code",
   "execution_count": 8,
   "id": "76433400",
   "metadata": {},
   "outputs": [
    {
     "name": "stdout",
     "output_type": "stream",
     "text": [
      "The Year Song is between 50s' and 70s'\n"
     ]
    }
   ],
   "source": [
    "year = 1997\n",
    "year = 1957\n",
    "if (year>1950) and (year< 1970):\n",
    "    print(\"The Year Song is between 50s' and 70s'\")\n",
    "else:\n",
    "    print(\"The Year date is either before or after 50's or 70s'\")"
   ]
  },
  {
   "cell_type": "code",
   "execution_count": 9,
   "id": "3abce88c",
   "metadata": {},
   "outputs": [
    {
     "name": "stdout",
     "output_type": "stream",
     "text": [
      "Album year is not 1984\n"
     ]
    }
   ],
   "source": [
    "album_year = 1983\n",
    "\n",
    "if not (album_year == 1984):\n",
    "    print (\"Album year is not 1984\")"
   ]
  },
  {
   "cell_type": "markdown",
   "id": "c6a96cb0",
   "metadata": {},
   "source": [
    "Write a Python program to check if a player Lionel Messi has more than 10 achievements. If the condition is true, print the player's name, sport, and achievements else print does not have more than 10 achievements.\n",
    "\n"
   ]
  },
  {
   "cell_type": "code",
   "execution_count": 14,
   "id": "17a3e4fe",
   "metadata": {},
   "outputs": [
    {
     "name": "stdout",
     "output_type": "stream",
     "text": [
      "Doesn't have more than 10 achievements\n"
     ]
    }
   ],
   "source": [
    "player1 = \"Lionel Messi\"\n",
    "achivements1 = 7\n",
    "sport1 = \"Soccer\"\n",
    "if(achivements1>10):\n",
    "    #print(player1, achivements1, sport1 )\n",
    "    print(f\"Player Name: {player1}, plays: {sport1} and achievements: {achivements1}\")\n",
    "else:\n",
    "    print(\"Doesn't have more than 10 achievements\")"
   ]
  },
  {
   "cell_type": "code",
   "execution_count": null,
   "id": "ea4098a9",
   "metadata": {},
   "outputs": [],
   "source": []
  }
 ],
 "metadata": {
  "kernelspec": {
   "display_name": "Python 3",
   "language": "python",
   "name": "python3"
  },
  "language_info": {
   "codemirror_mode": {
    "name": "ipython",
    "version": 3
   },
   "file_extension": ".py",
   "mimetype": "text/x-python",
   "name": "python",
   "nbconvert_exporter": "python",
   "pygments_lexer": "ipython3",
   "version": "3.10.0"
  }
 },
 "nbformat": 4,
 "nbformat_minor": 5
}
