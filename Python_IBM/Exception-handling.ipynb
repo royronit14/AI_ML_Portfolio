{
 "cells": [
  {
   "cell_type": "markdown",
   "id": "2022e4af",
   "metadata": {},
   "source": [
    "Exception Handling\n",
    "\n",
    "Exceptions are alerts when something unexpected happens while running a program. Python can raise these alerts automatically, but we can also trigger them on purpose using the raise command. \n",
    "\n",
    "Errors Vs Exceptions\n",
    "\n",
    "errors are usually big problems that come from the computer or the system. They often make the program stop working completely. On the other hand, exceptions are more like issues we can control. They happen because of something we did in our code and can usually be fixed, so the program keeps going."
   ]
  },
  {
   "cell_type": "markdown",
   "id": "9a5db924",
   "metadata": {},
   "source": [
    "# potential code before try catch\n",
    "\n",
    "try:\n",
    "    # code to try to execute\n",
    "except:\n",
    "    # code to execute if there is an exception\n",
    "    \n",
    "# code that will still execute if there is an exception"
   ]
  },
  {
   "cell_type": "code",
   "execution_count": 3,
   "id": "0da1932f",
   "metadata": {},
   "outputs": [
    {
     "name": "stdout",
     "output_type": "stream",
     "text": [
      "Success a= 0.2\n"
     ]
    }
   ],
   "source": [
    "a = 1\n",
    "\n",
    "try:\n",
    "    b = int(input(\"Please enter a number to divide a\"))\n",
    "    a = a/b\n",
    "    print(\"Success a=\",a)\n",
    "except:\n",
    "    print(\"There was an error\")   #if we input b then the except block runs"
   ]
  },
  {
   "cell_type": "markdown",
   "id": "09a9cc89",
   "metadata": {},
   "source": [
    "Try Except Specific\n",
    "\n",
    "A specific try except allows you to catch certain exceptions and also execute certain code depending on the exception."
   ]
  },
  {
   "cell_type": "markdown",
   "id": "0363d8d2",
   "metadata": {},
   "source": [
    "# potential code before try catch\n",
    "\n",
    "try:\n",
    "    # code to try to execute\n",
    "except ZeroDivisionError:\n",
    "    # code to execute if there is a ZeroDivisionError\n",
    "except NameError:\n",
    "    # code to execute if there is a NameError\n",
    "    \n",
    "# code that will execute if there is no exception or a one that we are handling"
   ]
  },
  {
   "cell_type": "markdown",
   "id": "9dac59be",
   "metadata": {},
   "source": [
    "# potential code before try catch\n",
    "\n",
    "try:\n",
    "    # code to try to execute\n",
    "except ZeroDivisionError:\n",
    "    # code to execute if there is a ZeroDivisionError\n",
    "except NameError:\n",
    "    # code to execute if there is a NameError\n",
    "except:\n",
    "    # code to execute if ther is any exception\n",
    "    \n",
    "# code that will execute if there is no exception or a one that we are handling"
   ]
  },
  {
   "cell_type": "code",
   "execution_count": 7,
   "id": "f53f507d",
   "metadata": {},
   "outputs": [
    {
     "name": "stdout",
     "output_type": "stream",
     "text": [
      "You did not provide a number\n"
     ]
    }
   ],
   "source": [
    "a = 1\n",
    "\n",
    "try:\n",
    "    b = int(input(\"Please enter a number to divide a\"))\n",
    "    a = a/b\n",
    "    print(\"Success a=\",a)\n",
    "except ZeroDivisionError:\n",
    "    print(\"The number you provided cant divide 1 because it is 0\")\n",
    "except ValueError:\n",
    "    print(\"You did not provide a number\")\n",
    "except:\n",
    "    print(\"Something went wrong\")\n",
    "        \n"
   ]
  },
  {
   "cell_type": "markdown",
   "id": "ba4d9f25",
   "metadata": {},
   "source": [
    "Try Except Else and Finally"
   ]
  },
  {
   "cell_type": "markdown",
   "id": "0a701857",
   "metadata": {},
   "source": [
    "else allows one to check if there was no exception when executing the try block. This is useful when we want to execute something only if there were no errors.\n",
    "\n",
    "finally allows us to always execute something even if there is an exception or not. This is usually used to signify the end of the try except."
   ]
  },
  {
   "cell_type": "markdown",
   "id": "e8e02a9a",
   "metadata": {},
   "source": [
    "# potential code before try catch\n",
    "\n",
    "try:\n",
    "    # code to try to execute\n",
    "except ZeroDivisionError:\n",
    "    # code to execute if there is a ZeroDivisionError\n",
    "except NameError:\n",
    "    # code to execute if there is a NameError\n",
    "except:\n",
    "    # code to execute if ther is any exception\n",
    "else:\n",
    "    # code to execute if there is no exception\n",
    "finally:\n",
    "    # code to execute at the end of the try except no matter what\n",
    "    \n",
    "# code that will execute if there is no exception or a one that we are handling"
   ]
  },
  {
   "cell_type": "code",
   "execution_count": 9,
   "id": "12239d37",
   "metadata": {},
   "outputs": [
    {
     "name": "stdout",
     "output_type": "stream",
     "text": [
      "success a= 0.011235955056179775\n",
      "Processing Complete\n"
     ]
    }
   ],
   "source": [
    "a = 1\n",
    "\n",
    "try:\n",
    "    b = int(input(\"Please enter a number to divide a\"))\n",
    "    a = a/b\n",
    "except ZeroDivisionError:\n",
    "    print(\"The number you provided cant divide 1 because it is 0\")\n",
    "except ValueError:\n",
    "    print(\"You did not provide a number\")\n",
    "except:\n",
    "    print(\"Something went wrong\")\n",
    "else:\n",
    "    print(\"success a=\",a)\n",
    "finally:\n",
    "    print(\"Processing Complete\")"
   ]
  },
  {
   "cell_type": "markdown",
   "id": "7fb967b7",
   "metadata": {},
   "source": [
    "Imagine you have a number and want to calculate its square root. To do this, you need to create a Python function. You give this function one number, 'number1'.\n",
    "\n",
    "The function should generate the square root value if you provide a positive integer or float value as input. However, the function should be clever enough to detect the mistake if you enter a negative value. It should kindly inform you with a message saying, 'Invalid input! Please enter a positive integer or a float value."
   ]
  },
  {
   "cell_type": "code",
   "execution_count": null,
   "id": "1de8341c",
   "metadata": {},
   "outputs": [
    {
     "name": "stdout",
     "output_type": "stream",
     "text": [
      "Invalid Number! Enter a Positive Number.\n"
     ]
    }
   ],
   "source": [
    "import math\n",
    "def find_sqrt(a):\n",
    "    try:\n",
    "        c = math.sqrt(a)\n",
    "        print(\"Square Root is: \",c)\n",
    "    except Exception as e:\n",
    "        print(\"Invalid Number! Enter a Positive Number.\")\n",
    "\n",
    "num = float(input(\"Enter A Number: \"))\n",
    "find_sqrt(num)\n"
   ]
  },
  {
   "cell_type": "markdown",
   "id": "d640b791",
   "metadata": {},
   "source": [
    "Imagine you have a number and want to perform a complex mathematical task. The calculation requires dividing the value of the input argument \"num\" by the difference between \"num\" and 5, and the result has to be stored in a variable called \"result\".\n",
    "\n",
    "You have to define a function so that it can perform that complex mathematical task. The function should handle any potential errors that occur during the calculation. To do this, you can use a try-except block. If any exception arises during the calculation, it should catch the error using the generic exception class \"Exception\" as \"e\". When an exception occurs, the function should display \"An error occurred during calculation."
   ]
  },
  {
   "cell_type": "code",
   "execution_count": null,
   "id": "1e2c89e1",
   "metadata": {},
   "outputs": [
    {
     "name": "stdout",
     "output_type": "stream",
     "text": [
      "Result is: 1.0980392156862746\n"
     ]
    },
    {
     "ename": "",
     "evalue": "",
     "output_type": "error",
     "traceback": [
      "\u001b[1;31mThe Kernel crashed while executing code in the current cell or a previous cell. \n",
      "\u001b[1;31mPlease review the code in the cell(s) to identify a possible cause of the failure. \n",
      "\u001b[1;31mClick <a href='https://aka.ms/vscodeJupyterKernelCrash'>here</a> for more info. \n",
      "\u001b[1;31mView Jupyter <a href='command:jupyter.viewOutput'>log</a> for further details."
     ]
    }
   ],
   "source": [
    "def calculation(num):\n",
    "    try:\n",
    "        result = num / (num - 5)\n",
    "        print(f\"Result is: {result}\")\n",
    "    except Exception as e:\n",
    "        print(\"An error occured during Calculation\")\n",
    "\n",
    "a = float(input(\"Enter a Number: \"))\n",
    "calculation(a)"
   ]
  }
 ],
 "metadata": {
  "kernelspec": {
   "display_name": "Python 3",
   "language": "python",
   "name": "python3"
  },
  "language_info": {
   "codemirror_mode": {
    "name": "ipython",
    "version": 3
   },
   "file_extension": ".py",
   "mimetype": "text/x-python",
   "name": "python",
   "nbconvert_exporter": "python",
   "pygments_lexer": "ipython3",
   "version": "3.10.0"
  }
 },
 "nbformat": 4,
 "nbformat_minor": 5
}
