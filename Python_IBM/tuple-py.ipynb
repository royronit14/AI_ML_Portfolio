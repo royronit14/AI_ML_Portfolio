{
 "cells": [
  {
   "cell_type": "markdown",
   "id": "14d9ab1e",
   "metadata": {},
   "source": [
    "Tuples"
   ]
  },
  {
   "cell_type": "markdown",
   "id": "180d200f",
   "metadata": {},
   "source": [
    "They are ordered sequence.\n",
    "Immutable\n",
    "Store data/value of different data types"
   ]
  },
  {
   "cell_type": "code",
   "execution_count": 1,
   "id": "14b456ac",
   "metadata": {},
   "outputs": [
    {
     "name": "stdout",
     "output_type": "stream",
     "text": [
      "(10, 3, 4, 55, 67)\n"
     ]
    }
   ],
   "source": [
    "Ratings = (10,3,4,55,67)\n",
    "print(Ratings)"
   ]
  },
  {
   "cell_type": "code",
   "execution_count": 2,
   "id": "fe33189f",
   "metadata": {},
   "outputs": [
    {
     "name": "stdout",
     "output_type": "stream",
     "text": [
      "('Ronit', 10, 'A', 23.099)\n"
     ]
    }
   ],
   "source": [
    "var1 = (\"Ronit\", 10, 'A', 23.099)\n",
    "print(var1)"
   ]
  },
  {
   "cell_type": "code",
   "execution_count": 3,
   "id": "d15cde27",
   "metadata": {},
   "outputs": [
    {
     "name": "stdout",
     "output_type": "stream",
     "text": [
      "('Ronit', 10, 'A', 23.099, 'Roy', 122)\n"
     ]
    }
   ],
   "source": [
    "var2 = var1 + (\"Roy\", 122)\n",
    "print(var2)"
   ]
  },
  {
   "cell_type": "code",
   "execution_count": 4,
   "id": "459a2077",
   "metadata": {},
   "outputs": [
    {
     "data": {
      "text/plain": [
       "tuple"
      ]
     },
     "execution_count": 4,
     "metadata": {},
     "output_type": "execute_result"
    }
   ],
   "source": [
    "type(var2)"
   ]
  },
  {
   "cell_type": "code",
   "execution_count": 5,
   "id": "ef302f22",
   "metadata": {},
   "outputs": [
    {
     "data": {
      "text/plain": [
       "6"
      ]
     },
     "execution_count": 5,
     "metadata": {},
     "output_type": "execute_result"
    }
   ],
   "source": [
    "len(var2)"
   ]
  },
  {
   "cell_type": "markdown",
   "id": "ba93fc73",
   "metadata": {},
   "source": [
    "Nested Tuple"
   ]
  },
  {
   "cell_type": "code",
   "execution_count": 8,
   "id": "17b963db",
   "metadata": {},
   "outputs": [
    {
     "name": "stdout",
     "output_type": "stream",
     "text": [
      "(1, 2, ('Ronit', 'Cake'), 3, 4, (90, 100))\n"
     ]
    }
   ],
   "source": [
    "nested_tup = (1, 2, (\"Ronit\", \"Cake\"), 3, 4, (90,100))\n",
    "type(nested_tup)\n",
    "print(nested_tup)"
   ]
  },
  {
   "cell_type": "code",
   "execution_count": 9,
   "id": "e8764fb4",
   "metadata": {},
   "outputs": [
    {
     "data": {
      "text/plain": [
       "2"
      ]
     },
     "execution_count": 9,
     "metadata": {},
     "output_type": "execute_result"
    }
   ],
   "source": [
    "nested_tup [1]"
   ]
  },
  {
   "cell_type": "code",
   "execution_count": 10,
   "id": "85a9d523",
   "metadata": {},
   "outputs": [
    {
     "data": {
      "text/plain": [
       "('Ronit', 'Cake')"
      ]
     },
     "execution_count": 10,
     "metadata": {},
     "output_type": "execute_result"
    }
   ],
   "source": [
    "nested_tup[2]"
   ]
  },
  {
   "cell_type": "code",
   "execution_count": 11,
   "id": "1f477f27",
   "metadata": {},
   "outputs": [
    {
     "data": {
      "text/plain": [
       "'Cake'"
      ]
     },
     "execution_count": 11,
     "metadata": {},
     "output_type": "execute_result"
    }
   ],
   "source": [
    "nested_tup[2][1]"
   ]
  },
  {
   "cell_type": "code",
   "execution_count": 12,
   "id": "5315cbe7",
   "metadata": {},
   "outputs": [
    {
     "data": {
      "text/plain": [
       "'e'"
      ]
     },
     "execution_count": 12,
     "metadata": {},
     "output_type": "execute_result"
    }
   ],
   "source": [
    "nested_tup[2][1][3]"
   ]
  }
 ],
 "metadata": {
  "kernelspec": {
   "display_name": "Python 3",
   "language": "python",
   "name": "python3"
  },
  "language_info": {
   "codemirror_mode": {
    "name": "ipython",
    "version": 3
   },
   "file_extension": ".py",
   "mimetype": "text/x-python",
   "name": "python",
   "nbconvert_exporter": "python",
   "pygments_lexer": "ipython3",
   "version": "3.10.0"
  }
 },
 "nbformat": 4,
 "nbformat_minor": 5
}
