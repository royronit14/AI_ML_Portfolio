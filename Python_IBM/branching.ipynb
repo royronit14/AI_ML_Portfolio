{
 "cells": [
  {
   "cell_type": "markdown",
   "id": "3b0952fb",
   "metadata": {},
   "source": [
    "Branching\n",
    "\n",
    "if, else, elif"
   ]
  },
  {
   "cell_type": "code",
   "execution_count": 2,
   "id": "fec7c052",
   "metadata": {},
   "outputs": [
    {
     "name": "stdout",
     "output_type": "stream",
     "text": [
      "Barely Allowed.\n"
     ]
    }
   ],
   "source": [
    "age = 18\n",
    "if(age<18):\n",
    "    print(\"Not allowed.\")\n",
    "elif(age==18):\n",
    "    print(\"Barely Allowed.\")\n",
    "else:\n",
    "    print(\"You are Allowed.\")\n"
   ]
  },
  {
   "cell_type": "code",
   "execution_count": null,
   "id": "1d83beb3",
   "metadata": {},
   "outputs": [
    {
     "name": "stdout",
     "output_type": "stream",
     "text": [
      "Album year is greater than 1980\n",
      "do something..\n"
     ]
    }
   ],
   "source": [
    "album_year = 1983   #prints both the statement\n",
    "album_year = 1970    #prints only the statement \"do something\"\n",
    "\n",
    "if album_year > 1980:\n",
    "    print(\"Album year is greater than 1980\")\n",
    "    \n",
    "print('do something..')"
   ]
  }
 ],
 "metadata": {
  "kernelspec": {
   "display_name": "Python 3",
   "language": "python",
   "name": "python3"
  },
  "language_info": {
   "codemirror_mode": {
    "name": "ipython",
    "version": 3
   },
   "file_extension": ".py",
   "mimetype": "text/x-python",
   "name": "python",
   "nbconvert_exporter": "python",
   "pygments_lexer": "ipython3",
   "version": "3.10.0"
  }
 },
 "nbformat": 4,
 "nbformat_minor": 5
}
